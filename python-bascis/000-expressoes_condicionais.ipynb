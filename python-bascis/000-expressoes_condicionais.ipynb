{
 "cells": [
  {
   "cell_type": "markdown",
   "metadata": {},
   "source": [
    "##### Condicionais IF/ELSE\n"
   ]
  },
  {
   "cell_type": "code",
   "execution_count": 1,
   "metadata": {},
   "outputs": [
    {
     "name": "stdout",
     "output_type": "stream",
     "text": [
      "Dentro do if\n"
     ]
    }
   ],
   "source": [
    "# variaveis\n",
    "a = 'Dentro do if'\n",
    "b = 'Fora do if'\n",
    "\n",
    "\n",
    "# True\n",
    "# se(verdade):\n",
    "#     execute o bloco de codigo\n",
    "# senao:\n",
    "#     execute o bloco de codigo\n",
    "\n",
    "if( 2==2 ):\n",
    "    print(a)\n",
    "else:\n",
    "    print(b)"
   ]
  },
  {
   "cell_type": "code",
   "execution_count": 2,
   "metadata": {},
   "outputs": [
    {
     "name": "stdout",
     "output_type": "stream",
     "text": [
      "Fora do if\n"
     ]
    }
   ],
   "source": [
    "# False:\n",
    "\n",
    "if( 2!=2 ):\n",
    "    print(a)\n",
    "else:\n",
    "    print(b)"
   ]
  },
  {
   "cell_type": "code",
   "execution_count": 3,
   "metadata": {},
   "outputs": [
    {
     "name": "stdout",
     "output_type": "stream",
     "text": [
      "num maior que 10 e menor que 40\n"
     ]
    }
   ],
   "source": [
    "num = 40 \n",
    "\n",
    "if num > 40:\n",
    "    if num <= 50:\n",
    "        print('num menor que 50')\n",
    "    else:\n",
    "        print('num maior que 50')\n",
    "\n",
    "else:\n",
    "    if num <= 40:\n",
    "        if num >= 10:\n",
    "            print('num maior que 10 e menor que 40')\n",
    "        else:\n",
    "            print('num menor que 10 e menor que 40')"
   ]
  },
  {
   "cell_type": "code",
   "execution_count": 5,
   "metadata": {},
   "outputs": [
    {
     "name": "stdout",
     "output_type": "stream",
     "text": [
      "2 é menor que 3\n"
     ]
    }
   ],
   "source": [
    "# false\n",
    "if 2 > 3:\n",
    "    print('2 é maior que 3')\n",
    "\n",
    "# false\n",
    "elif 2 == 3:\n",
    "    print('2 é igual a 3')\n",
    "\n",
    "# true\n",
    "elif 2 < 3:\n",
    "    print('2 é menor que 3')"
   ]
  },
  {
   "cell_type": "code",
   "execution_count": 6,
   "metadata": {},
   "outputs": [
    {
     "name": "stdout",
     "output_type": "stream",
     "text": [
      "é impar\n"
     ]
    }
   ],
   "source": [
    "a = 10 # valor par \n",
    "\n",
    "# não vai execultar o bloco de codigo\n",
    "if False:\n",
    "\n",
    "    a = a % 2\n",
    "    b == 0\n",
    "    print('é par')\n",
    "\n",
    "# vai executar o bloco de codigo\n",
    "else:\n",
    "\n",
    "    print('é impar')\n"
   ]
  },
  {
   "cell_type": "code",
   "execution_count": 8,
   "metadata": {},
   "outputs": [
    {
     "name": "stdout",
     "output_type": "stream",
     "text": [
      "é par\n"
     ]
    }
   ],
   "source": [
    "a = 10 # variavel\n",
    "\n",
    "# condição\n",
    "b = a % 2\n",
    "\n",
    "if b==0:\n",
    "    print('é par')\n",
    "\n",
    "else:\n",
    "    print('é impar')\n"
   ]
  }
 ],
 "metadata": {
  "interpreter": {
   "hash": "ad2bdc8ecc057115af97d19610ffacc2b4e99fae6737bb82f5d7fb13d2f2c186"
  },
  "kernelspec": {
   "display_name": "Python 3.8.8 ('base')",
   "language": "python",
   "name": "python3"
  },
  "language_info": {
   "codemirror_mode": {
    "name": "ipython",
    "version": 3
   },
   "file_extension": ".py",
   "mimetype": "text/x-python",
   "name": "python",
   "nbconvert_exporter": "python",
   "pygments_lexer": "ipython3",
   "version": "3.8.8"
  },
  "orig_nbformat": 4
 },
 "nbformat": 4,
 "nbformat_minor": 2
}
