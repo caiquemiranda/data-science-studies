{
 "cells": [
  {
   "cell_type": "code",
   "execution_count": 3,
   "metadata": {},
   "outputs": [],
   "source": [
    "import numpy as np"
   ]
  },
  {
   "cell_type": "code",
   "execution_count": 4,
   "metadata": {},
   "outputs": [],
   "source": [
    "# indexação de matrizes"
   ]
  },
  {
   "cell_type": "code",
   "execution_count": 5,
   "metadata": {},
   "outputs": [
    {
     "name": "stdout",
     "output_type": "stream",
     "text": [
      "[[1, 2, 3, 4], [11, 12, 13, 14], [21, 22, 23, 24], [31, 32, 33, 34]]\n",
      "<class 'list'>\n"
     ]
    }
   ],
   "source": [
    "# definindo a matriz\n",
    "\n",
    "A = [[1, 2, 3, 4], \n",
    "    [11, 12, 13, 14], \n",
    "    [21, 22, 23, 24], \n",
    "    [31, 32, 33, 34]]\n",
    "\n",
    "# array\n",
    "array = np.array(A)\n",
    "\n",
    "print(A)\n",
    "\n",
    "# list\n",
    "print(type(A))"
   ]
  },
  {
   "cell_type": "code",
   "execution_count": 6,
   "metadata": {},
   "outputs": [
    {
     "name": "stdout",
     "output_type": "stream",
     "text": [
      "[1 2 3 4]\n"
     ]
    }
   ],
   "source": [
    "# primeira linha\n",
    "\n",
    "print(array[0]) "
   ]
  },
  {
   "cell_type": "code",
   "execution_count": 7,
   "metadata": {},
   "outputs": [
    {
     "name": "stdout",
     "output_type": "stream",
     "text": [
      "[21 22 23 24]\n"
     ]
    }
   ],
   "source": [
    "# linha de indice 2\n",
    "\n",
    "print(array[2])"
   ]
  },
  {
   "cell_type": "code",
   "execution_count": 8,
   "metadata": {},
   "outputs": [
    {
     "name": "stdout",
     "output_type": "stream",
     "text": [
      "4\n"
     ]
    }
   ],
   "source": [
    "# primeira linha ultima coluna\n",
    "\n",
    "print(array[0, -1])"
   ]
  },
  {
   "cell_type": "code",
   "execution_count": 9,
   "metadata": {},
   "outputs": [
    {
     "name": "stdout",
     "output_type": "stream",
     "text": [
      "[[ 9  2  3  4]\n",
      " [11 12 13 14]\n",
      " [21 22 23 24]\n",
      " [31 32 33 34]]\n"
     ]
    }
   ],
   "source": [
    "# atribuindo valor a uma posição da matriz\n",
    "\n",
    "array[0, 0] = 9\n",
    "\n",
    "# array modificado\n",
    "print(array)"
   ]
  },
  {
   "cell_type": "code",
   "execution_count": 10,
   "metadata": {},
   "outputs": [
    {
     "name": "stdout",
     "output_type": "stream",
     "text": [
      "[[ 9  2  3  0]\n",
      " [11 12 13  0]\n",
      " [21 22 23  0]\n",
      " [31 32 33  0]]\n"
     ]
    }
   ],
   "source": [
    "# atribuindo valor a coluna inteira \n",
    "array[:, -1] = 0\n",
    "\n",
    "# array modificado\n",
    "print(array)"
   ]
  },
  {
   "cell_type": "code",
   "execution_count": 11,
   "metadata": {},
   "outputs": [
    {
     "name": "stdout",
     "output_type": "stream",
     "text": [
      "[[12 13]\n",
      " [22 23]]\n"
     ]
    }
   ],
   "source": [
    "# intervalos\n",
    "# numeros centrais \n",
    "\n",
    "print(array[1:3, 1:3])\n"
   ]
  },
  {
   "cell_type": "code",
   "execution_count": 12,
   "metadata": {},
   "outputs": [
    {
     "name": "stdout",
     "output_type": "stream",
     "text": [
      "[[13  0]\n",
      " [23  0]]\n"
     ]
    }
   ],
   "source": [
    "# intervalo 13, 23, 0, 0\n",
    "\n",
    "print(array[1:3, 2:4])"
   ]
  },
  {
   "cell_type": "code",
   "execution_count": 13,
   "metadata": {},
   "outputs": [
    {
     "name": "stdout",
     "output_type": "stream",
     "text": [
      "[0 0 0 0]\n"
     ]
    }
   ],
   "source": [
    "# somente a ultima coluna\n",
    "\n",
    "print(array[:, -1])"
   ]
  },
  {
   "cell_type": "code",
   "execution_count": 14,
   "metadata": {},
   "outputs": [
    {
     "name": "stdout",
     "output_type": "stream",
     "text": [
      "[31 32 33  0]\n"
     ]
    }
   ],
   "source": [
    "# somente a ultima linha\n",
    "\n",
    "print(array[-1])"
   ]
  },
  {
   "cell_type": "code",
   "execution_count": 15,
   "metadata": {},
   "outputs": [
    {
     "name": "stdout",
     "output_type": "stream",
     "text": [
      "[[1 2]\n",
      " [3 4]\n",
      " [5 6]]\n"
     ]
    }
   ],
   "source": [
    "# concatenando arrays multidimencionais\n",
    "\n",
    "A = np.array([[1, 2], [3, 4]])\n",
    "B = np.array([[5, 6]])\n",
    "\n",
    "C = np.concatenate((A, B))\n",
    "\n",
    "print(C)"
   ]
  }
 ],
 "metadata": {
  "kernelspec": {
   "display_name": "Python 3.8.10 64-bit (system)",
   "language": "python",
   "name": "python3"
  },
  "language_info": {
   "codemirror_mode": {
    "name": "ipython",
    "version": 3
   },
   "file_extension": ".py",
   "mimetype": "text/x-python",
   "name": "python",
   "nbconvert_exporter": "python",
   "pygments_lexer": "ipython3",
   "version": "3.8.10"
  },
  "orig_nbformat": 4,
  "vscode": {
   "interpreter": {
    "hash": "c1c6012700f12de55f8e0fcc4d692549fb71199068374c43eaca7d87c58b71b9"
   }
  }
 },
 "nbformat": 4,
 "nbformat_minor": 2
}
