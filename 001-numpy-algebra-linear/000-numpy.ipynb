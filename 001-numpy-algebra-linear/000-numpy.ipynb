{
 "cells": [
  {
   "cell_type": "markdown",
   "metadata": {},
   "source": [
    "## Notes\n",
    "---------------------------------------------------\n",
    "#### m(linhas) x n(colunas)\n",
    "\n",
    "#### matriz 1x1 (unitária)\n",
    "#### matriz 1xn (matriz linha)\n",
    "#### matriz nx1 (matriz coluna)\n",
    "---------------------------------------------------\n",
    "#### retangulares m<>n\n",
    "#### quadradas m=n\n",
    "---------------------------------------------------\n",
    "#### 1 - 0 - 0 - 2  ==> 1 - diagonal principal\n",
    "#### 0 - 1 - 2 - 0  ==> 2 - diagonal secundaria\n",
    "#### 0 - 2 - 1 - 0\n",
    "#### 2 - 0 - 0 - 1   \n",
    "---------------------------------------------------\n",
    "#### 0 - 2 - 2 - 2   ==> 1 - matriz triangular inferior\n",
    "#### 1 - 0 - 2 - 2   ==> 2 - matriz trinagular superior\n",
    "#### 1 - 1 - 0 - 2\n",
    "#### 1 - 1 - 1 - 0   \n",
    "---------------------------------------------------\n",
    "#### 1 - 0 - 0 - 0     ==> 1 - matriz diagonal(valores apenas em sua diagonal)\n",
    "#### 0 - 1 - 0 - 0     \n",
    "#### 0 - 0 - 1 - 0\n",
    "#### 0 - 0 - 0 - 1   \n",
    "---------------------------------------------------\n",
    "#### 1 - 0 - 0 - 0     ==> 1 - matriz identidade (valores 1 em sua diagonal)\n",
    "#### 0 - 1 - 0 - 0     \n",
    "#### 0 - 0 - 1 - 0\n",
    "#### 0 - 0 - 0 - 1   \n",
    "---------------------------------------------------\n",
    "#### 4 - 9 - 4 - 8     ==> -  matriz simétrica (valores simétricos independente se sua diagonal)\n",
    "#### 9 - 1 - 1 - 0     \n",
    "#### 4 - 1 - 5 - 2\n",
    "#### 8 - 0 - 2 - 2   "
   ]
  },
  {
   "cell_type": "code",
   "execution_count": 1,
   "metadata": {},
   "outputs": [],
   "source": [
    "# importação de modulo para algebra linear e aplicações matematicas\n",
    "import numpy as np"
   ]
  },
  {
   "cell_type": "code",
   "execution_count": null,
   "metadata": {},
   "outputs": [],
   "source": [
    "# criação de array(lista com valores) array de tecnologias\n",
    "\n",
    "a1 = np.array(['spark', 'hadoop', 'python', 'R'])"
   ]
  },
  {
   "cell_type": "code",
   "execution_count": null,
   "metadata": {},
   "outputs": [],
   "source": [
    "# visualização do array\n",
    "\n",
    "a1"
   ]
  },
  {
   "cell_type": "code",
   "execution_count": null,
   "metadata": {},
   "outputs": [],
   "source": [
    "# tipos diferentes no array\n",
    "# array( [ [valuesx,...],[valuesy,...] ] ] )\n",
    "\n",
    "a2 = np.array([['altura', 'largura', 'profundidade'], [23, 43, 10]])"
   ]
  },
  {
   "cell_type": "code",
   "execution_count": null,
   "metadata": {},
   "outputs": [],
   "source": [
    "# visualização do array\n",
    "a2"
   ]
  },
  {
   "cell_type": "code",
   "execution_count": null,
   "metadata": {},
   "outputs": [],
   "source": [
    "# array appenas numeros\n",
    "\n",
    "a3 = np.array([[14, 45, 54.7], [23, 43.9, 10]])"
   ]
  },
  {
   "cell_type": "code",
   "execution_count": null,
   "metadata": {},
   "outputs": [],
   "source": [
    "# visualização do array\n",
    "\n",
    "a3"
   ]
  },
  {
   "cell_type": "code",
   "execution_count": null,
   "metadata": {},
   "outputs": [],
   "source": [
    "# tamanho dos arrays(.shape)\n",
    "\n",
    "print(a1.shape)\n",
    "print(a2.shape)\n",
    "print(a3.shape)"
   ]
  },
  {
   "cell_type": "code",
   "execution_count": null,
   "metadata": {},
   "outputs": [],
   "source": [
    "# dimensões dos array\n",
    "\n",
    "print(a1.ndim)\n",
    "print(a2.ndim)\n",
    "print(a3.ndim)"
   ]
  },
  {
   "cell_type": "code",
   "execution_count": null,
   "metadata": {},
   "outputs": [],
   "source": [
    "# metodos para os arrays min, max \n",
    "\n",
    "a3.max(), a3.min()"
   ]
  },
  {
   "cell_type": "code",
   "execution_count": null,
   "metadata": {},
   "outputs": [],
   "source": [
    "# metodo arrange, range de valores 0 a 19\n",
    "\n",
    "array = np.arange(20)\n",
    "array"
   ]
  },
  {
   "cell_type": "code",
   "execution_count": null,
   "metadata": {},
   "outputs": [],
   "source": [
    "# valores de 0 a 100 passo 10\n",
    "\n",
    "array = np.arange(0, 100, 10)\n",
    "array"
   ]
  },
  {
   "cell_type": "code",
   "execution_count": null,
   "metadata": {},
   "outputs": [],
   "source": [
    "# estruturas com linspace\n",
    "# criação de um array de 20 elementos entre 0 e 10\n",
    "\n",
    "matriz = np.linspace(0, 10, 20)\n",
    "matriz"
   ]
  },
  {
   "cell_type": "code",
   "execution_count": null,
   "metadata": {},
   "outputs": [],
   "source": [
    "matriz = np.linspace(0, 10, 5)\n",
    "matriz"
   ]
  },
  {
   "cell_type": "code",
   "execution_count": null,
   "metadata": {},
   "outputs": [],
   "source": [
    "matriz = np.linspace(0, 5, 5)\n",
    "matriz"
   ]
  },
  {
   "cell_type": "code",
   "execution_count": null,
   "metadata": {},
   "outputs": [],
   "source": [
    "# estruturas matrizes np.zeros( valores 0 ) ( (matriz mxn) )\n",
    "\n",
    "matriz0 = np.zeros((10, 10))\n",
    "matriz0"
   ]
  },
  {
   "cell_type": "code",
   "execution_count": null,
   "metadata": {},
   "outputs": [],
   "source": [
    "# estruturas matrizes np.ones( valores 1 ) ( (matriz mxn) )\n",
    "\n",
    "matriz1 = np.ones((10, 10))\n",
    "matriz1"
   ]
  },
  {
   "cell_type": "code",
   "execution_count": null,
   "metadata": {},
   "outputs": [],
   "source": [
    "# matriz identidade\n",
    "\n",
    "matriz = np.eye(10)\n",
    "matriz"
   ]
  },
  {
   "cell_type": "code",
   "execution_count": null,
   "metadata": {},
   "outputs": [],
   "source": [
    "# matriz diagonal\n",
    "\n",
    "matrizD = np.diag((0, 2, 4, 6, 8, 10, 12, 14, 16, 18, 20))\n",
    "matrizD"
   ]
  },
  {
   "cell_type": "code",
   "execution_count": 5,
   "metadata": {},
   "outputs": [
    {
     "data": {
      "text/plain": [
       "array([[1.02228459e-311, 1.02228308e-311, 1.69121096e-306,\n",
       "        3.30395829e-304, 4.45057637e-308],\n",
       "       [7.56602523e-307, 6.23053614e-307, 2.22526399e-307,\n",
       "        6.23053614e-307, 7.56592338e-307],\n",
       "       [9.34581270e-307, 2.89275220e-307, 6.23056330e-307,\n",
       "        1.78022342e-306, 8.06635958e-308],\n",
       "       [1.05694828e-307, 1.39071360e-307, 1.27950405e-307,\n",
       "        1.11262096e-307, 7.56563139e-307],\n",
       "       [9.45700529e-308, 7.56561781e-307, 1.16820622e-307,\n",
       "        8.90062138e-307, 1.16820622e-307],\n",
       "       [9.79101761e-307, 9.34598925e-307, 8.90071136e-308,\n",
       "        1.27950405e-307, 9.34598246e-307],\n",
       "       [7.56594374e-307, 1.27945821e-307, 8.01057146e-307,\n",
       "        9.45700529e-308, 1.33509015e-307],\n",
       "       [9.79099724e-307, 9.34564294e-307, 1.00132483e-307,\n",
       "        1.16824611e-307, 1.05695677e-307],\n",
       "       [1.33508845e-307, 1.11258022e-307, 8.90062138e-307,\n",
       "        7.56561780e-307, 1.11261926e-307],\n",
       "       [1.16824781e-307, 9.34566332e-307, 1.11258192e-307,\n",
       "        8.34424766e-308, 2.29179010e-312]])"
      ]
     },
     "execution_count": 5,
     "metadata": {},
     "output_type": "execute_result"
    }
   ],
   "source": [
    "# matriz empty\n",
    "\n",
    "matriz = np.empty((10, 5))\n",
    "matriz"
   ]
  },
  {
   "cell_type": "code",
   "execution_count": 7,
   "metadata": {},
   "outputs": [
    {
     "data": {
      "text/plain": [
       "array([[1, 2, 1, 2, 1, 2],\n",
       "       [3, 4, 3, 4, 3, 4],\n",
       "       [5, 6, 5, 6, 5, 6]])"
      ]
     },
     "execution_count": 7,
     "metadata": {},
     "output_type": "execute_result"
    }
   ],
   "source": [
    "# funções com arrays\n",
    "# mutiplicação de arrays\n",
    "\n",
    "np.tile(np.array([[1, 2], [3, 4], [5, 6]]), 3)"
   ]
  },
  {
   "cell_type": "code",
   "execution_count": 8,
   "metadata": {},
   "outputs": [
    {
     "data": {
      "text/plain": [
       "array([[1, 2, 1, 2, 1, 2, 1, 2, 1, 2, 1, 2],\n",
       "       [3, 4, 3, 4, 3, 4, 3, 4, 3, 4, 3, 4],\n",
       "       [5, 6, 5, 6, 5, 6, 5, 6, 5, 6, 5, 6],\n",
       "       [1, 2, 1, 2, 1, 2, 1, 2, 1, 2, 1, 2],\n",
       "       [3, 4, 3, 4, 3, 4, 3, 4, 3, 4, 3, 4],\n",
       "       [5, 6, 5, 6, 5, 6, 5, 6, 5, 6, 5, 6],\n",
       "       [1, 2, 1, 2, 1, 2, 1, 2, 1, 2, 1, 2],\n",
       "       [3, 4, 3, 4, 3, 4, 3, 4, 3, 4, 3, 4],\n",
       "       [5, 6, 5, 6, 5, 6, 5, 6, 5, 6, 5, 6]])"
      ]
     },
     "execution_count": 8,
     "metadata": {},
     "output_type": "execute_result"
    }
   ],
   "source": [
    "np.tile(np.array([[1, 2], [3, 4], [5, 6]]), (3, 6))"
   ]
  }
 ],
 "metadata": {
  "kernelspec": {
   "display_name": "Python 3.8.10 64-bit (system)",
   "language": "python",
   "name": "python3"
  },
  "language_info": {
   "codemirror_mode": {
    "name": "ipython",
    "version": 3
   },
   "file_extension": ".py",
   "mimetype": "text/x-python",
   "name": "python",
   "nbconvert_exporter": "python",
   "pygments_lexer": "ipython3",
   "version": "3.8.10"
  },
  "orig_nbformat": 4,
  "vscode": {
   "interpreter": {
    "hash": "c1c6012700f12de55f8e0fcc4d692549fb71199068374c43eaca7d87c58b71b9"
   }
  }
 },
 "nbformat": 4,
 "nbformat_minor": 2
}
