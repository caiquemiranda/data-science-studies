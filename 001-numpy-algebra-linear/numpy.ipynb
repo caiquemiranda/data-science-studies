{
 "cells": [
  {
   "cell_type": "code",
   "execution_count": null,
   "metadata": {},
   "outputs": [],
   "source": [
    "# notes\n",
    "\n",
    "# m(linhas) x n(colunas)\n",
    "\n",
    "# matriz 1x1 (unitária)\n",
    "# matriz 1xn (matriz linha)\n",
    "# matriz nx1 (matriz coluna)\n",
    "\n",
    "# retangulares m<>n\n",
    "# quadradas m=n\n",
    "\n"
   ]
  }
 ],
 "metadata": {
  "language_info": {
   "name": "python"
  },
  "orig_nbformat": 4
 },
 "nbformat": 4,
 "nbformat_minor": 2
}
