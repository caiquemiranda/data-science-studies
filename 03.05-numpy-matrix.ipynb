{
 "cells": [
  {
   "cell_type": "code",
   "execution_count": 1,
   "metadata": {},
   "outputs": [],
   "source": [
    "# importação numpy\n",
    "\n",
    "import numpy as np"
   ]
  },
  {
   "cell_type": "code",
   "execution_count": 2,
   "metadata": {},
   "outputs": [],
   "source": [
    "# matriz 2 dimensões\n",
    "A = np.matrix(([1, 2], [3, 4]))\n",
    "\n",
    "# matriz 2 dimensões\n",
    "B = np.matrix(([5, 3], [8, 7]))\n",
    "\n",
    "# array com 3 dimensões\n",
    "Z = np.array([\n",
    "    [[2, 6], [8, 4]],\n",
    "    [[2, 6], [8,4 ]],\n",
    "    [[2,6 ], [8, 4]]\n",
    "])\n",
    "\n",
    "# array 1 dimensão\n",
    "Y = np.array([2, 6, 8, 4])"
   ]
  },
  {
   "cell_type": "code",
   "execution_count": 3,
   "metadata": {},
   "outputs": [
    {
     "ename": "ValueError",
     "evalue": "matrix must be 2-dimensional",
     "output_type": "error",
     "traceback": [
      "\u001b[1;31m---------------------------------------------------------------------------\u001b[0m",
      "\u001b[1;31mValueError\u001b[0m                                Traceback (most recent call last)",
      "\u001b[1;32md:\\GIT-repository\\github-studies-data-science\\studies-data-science\\001-numpy-algebra-linear\\005-numpy-matrix.ipynb Cell 3'\u001b[0m in \u001b[0;36m<cell line: 3>\u001b[1;34m()\u001b[0m\n\u001b[0;32m      <a href='vscode-notebook-cell:/d%3A/GIT-repository/github-studies-data-science/studies-data-science/001-numpy-algebra-linear/005-numpy-matrix.ipynb#ch0000002?line=0'>1</a>\u001b[0m \u001b[39m# matriz com mais de 2 dimensões não é suportado\u001b[39;00m\n\u001b[1;32m----> <a href='vscode-notebook-cell:/d%3A/GIT-repository/github-studies-data-science/studies-data-science/001-numpy-algebra-linear/005-numpy-matrix.ipynb#ch0000002?line=2'>3</a>\u001b[0m Z \u001b[39m=\u001b[39m np\u001b[39m.\u001b[39;49mmatrix([\n\u001b[0;32m      <a href='vscode-notebook-cell:/d%3A/GIT-repository/github-studies-data-science/studies-data-science/001-numpy-algebra-linear/005-numpy-matrix.ipynb#ch0000002?line=3'>4</a>\u001b[0m     [[\u001b[39m2\u001b[39;49m, \u001b[39m6\u001b[39;49m], [\u001b[39m8\u001b[39;49m, \u001b[39m4\u001b[39;49m]],\n\u001b[0;32m      <a href='vscode-notebook-cell:/d%3A/GIT-repository/github-studies-data-science/studies-data-science/001-numpy-algebra-linear/005-numpy-matrix.ipynb#ch0000002?line=4'>5</a>\u001b[0m     [[\u001b[39m2\u001b[39;49m, \u001b[39m6\u001b[39;49m], [\u001b[39m8\u001b[39;49m, \u001b[39m4\u001b[39;49m]],\n\u001b[0;32m      <a href='vscode-notebook-cell:/d%3A/GIT-repository/github-studies-data-science/studies-data-science/001-numpy-algebra-linear/005-numpy-matrix.ipynb#ch0000002?line=5'>6</a>\u001b[0m     [[\u001b[39m2\u001b[39;49m, \u001b[39m4\u001b[39;49m], [\u001b[39m8\u001b[39;49m, \u001b[39m4\u001b[39;49m]]\n\u001b[0;32m      <a href='vscode-notebook-cell:/d%3A/GIT-repository/github-studies-data-science/studies-data-science/001-numpy-algebra-linear/005-numpy-matrix.ipynb#ch0000002?line=6'>7</a>\u001b[0m ])\n",
      "File \u001b[1;32mc:\\Users\\Caíque Miranda\\AppData\\Local\\Programs\\Python\\Python310\\lib\\site-packages\\numpy\\matrixlib\\defmatrix.py:149\u001b[0m, in \u001b[0;36mmatrix.__new__\u001b[1;34m(subtype, data, dtype, copy)\u001b[0m\n\u001b[0;32m    147\u001b[0m shape \u001b[39m=\u001b[39m arr\u001b[39m.\u001b[39mshape\n\u001b[0;32m    148\u001b[0m \u001b[39mif\u001b[39;00m (ndim \u001b[39m>\u001b[39m \u001b[39m2\u001b[39m):\n\u001b[1;32m--> 149\u001b[0m     \u001b[39mraise\u001b[39;00m \u001b[39mValueError\u001b[39;00m(\u001b[39m\"\u001b[39m\u001b[39mmatrix must be 2-dimensional\u001b[39m\u001b[39m\"\u001b[39m)\n\u001b[0;32m    150\u001b[0m \u001b[39melif\u001b[39;00m ndim \u001b[39m==\u001b[39m \u001b[39m0\u001b[39m:\n\u001b[0;32m    151\u001b[0m     shape \u001b[39m=\u001b[39m (\u001b[39m1\u001b[39m, \u001b[39m1\u001b[39m)\n",
      "\u001b[1;31mValueError\u001b[0m: matrix must be 2-dimensional"
     ]
    }
   ],
   "source": [
    "# matriz com mais de 2 dimensões não é suportado\n",
    "\n",
    "Z = np.matrix([\n",
    "    [[2, 6], [8, 4]],\n",
    "    [[2, 6], [8, 4]],\n",
    "    [[2, 4], [8, 4]]\n",
    "])"
   ]
  },
  {
   "cell_type": "code",
   "execution_count": 4,
   "metadata": {},
   "outputs": [
    {
     "name": "stdout",
     "output_type": "stream",
     "text": [
      "<class 'numpy.matrix'>\n"
     ]
    }
   ],
   "source": [
    "# tipo da variavel A\n",
    "\n",
    "print(type(A))"
   ]
  },
  {
   "cell_type": "code",
   "execution_count": 5,
   "metadata": {},
   "outputs": [
    {
     "name": "stdout",
     "output_type": "stream",
     "text": [
      "<class 'numpy.ndarray'>\n"
     ]
    }
   ],
   "source": [
    "# tipo da variavel Z\n",
    "\n",
    "print(type(Z))"
   ]
  },
  {
   "cell_type": "code",
   "execution_count": 6,
   "metadata": {},
   "outputs": [
    {
     "name": "stdout",
     "output_type": "stream",
     "text": [
      "<class 'numpy.ndarray'>\n"
     ]
    }
   ],
   "source": [
    "# tipo da variavel Y\n",
    "\n",
    "print(type(Y))"
   ]
  },
  {
   "cell_type": "code",
   "execution_count": 7,
   "metadata": {},
   "outputs": [
    {
     "name": "stdout",
     "output_type": "stream",
     "text": [
      "[[1 2]\n",
      " [3 4]]\n"
     ]
    }
   ],
   "source": [
    "print(A)"
   ]
  },
  {
   "cell_type": "code",
   "execution_count": 8,
   "metadata": {},
   "outputs": [
    {
     "name": "stdout",
     "output_type": "stream",
     "text": [
      "[[[2 6]\n",
      "  [8 4]]\n",
      "\n",
      " [[2 6]\n",
      "  [8 4]]\n",
      "\n",
      " [[2 6]\n",
      "  [8 4]]]\n"
     ]
    }
   ],
   "source": [
    "print(Z)"
   ]
  },
  {
   "cell_type": "code",
   "execution_count": 9,
   "metadata": {},
   "outputs": [
    {
     "name": "stdout",
     "output_type": "stream",
     "text": [
      "[2 6 8 4]\n"
     ]
    }
   ],
   "source": [
    "print(Y)"
   ]
  },
  {
   "cell_type": "code",
   "execution_count": 10,
   "metadata": {},
   "outputs": [
    {
     "data": {
      "text/plain": [
       "(3, 2, 2)"
      ]
     },
     "execution_count": 10,
     "metadata": {},
     "output_type": "execute_result"
    }
   ],
   "source": [
    "Z.shape"
   ]
  },
  {
   "cell_type": "code",
   "execution_count": 11,
   "metadata": {},
   "outputs": [
    {
     "data": {
      "text/plain": [
       "(4,)"
      ]
     },
     "execution_count": 11,
     "metadata": {},
     "output_type": "execute_result"
    }
   ],
   "source": [
    "Y.shape"
   ]
  },
  {
   "cell_type": "code",
   "execution_count": 12,
   "metadata": {},
   "outputs": [
    {
     "name": "stdout",
     "output_type": "stream",
     "text": [
      "[[ 6  5]\n",
      " [11 11]]\n"
     ]
    }
   ],
   "source": [
    "# soma\n",
    "\n",
    "print(A + B)"
   ]
  },
  {
   "cell_type": "code",
   "execution_count": 13,
   "metadata": {},
   "outputs": [
    {
     "name": "stdout",
     "output_type": "stream",
     "text": [
      "[[ 8  6]\n",
      " [11 10]]\n"
     ]
    }
   ],
   "source": [
    "print(B + 3)"
   ]
  },
  {
   "cell_type": "code",
   "execution_count": 14,
   "metadata": {},
   "outputs": [
    {
     "name": "stdout",
     "output_type": "stream",
     "text": [
      "[[-4 -1]\n",
      " [-5 -3]]\n"
     ]
    }
   ],
   "source": [
    "# subtração\n",
    "\n",
    "print(A - B)"
   ]
  },
  {
   "cell_type": "code",
   "execution_count": 15,
   "metadata": {},
   "outputs": [
    {
     "name": "stdout",
     "output_type": "stream",
     "text": [
      "[[1 2]\n",
      " [3 4]]\n"
     ]
    }
   ],
   "source": [
    "# multiplicação\n",
    "\n",
    "A = np.matrix([[1, 2], [3, 4]])\n",
    "\n",
    "print(A)"
   ]
  },
  {
   "cell_type": "code",
   "execution_count": 16,
   "metadata": {},
   "outputs": [
    {
     "name": "stdout",
     "output_type": "stream",
     "text": [
      "[[ 7 10]\n",
      " [15 22]]\n"
     ]
    }
   ],
   "source": [
    "# cruz\n",
    "\n",
    "print(A * A)"
   ]
  },
  {
   "cell_type": "code",
   "execution_count": 17,
   "metadata": {},
   "outputs": [
    {
     "name": "stdout",
     "output_type": "stream",
     "text": [
      "[[ 1  4]\n",
      " [ 9 16]]\n"
     ]
    }
   ],
   "source": [
    "# indice a indice\n",
    "\n",
    "print(np.multiply(A, A))"
   ]
  },
  {
   "cell_type": "code",
   "execution_count": 18,
   "metadata": {},
   "outputs": [
    {
     "name": "stdout",
     "output_type": "stream",
     "text": [
      "[[-2.   1. ]\n",
      " [ 1.5 -0.5]]\n"
     ]
    }
   ],
   "source": [
    "# inversa\n",
    "\n",
    "print(np.linalg.inv(A))"
   ]
  },
  {
   "cell_type": "code",
   "execution_count": 19,
   "metadata": {},
   "outputs": [],
   "source": [
    "# importação do modulo linalg\n",
    "\n",
    "from numpy.linalg import inv"
   ]
  },
  {
   "cell_type": "code",
   "execution_count": 20,
   "metadata": {},
   "outputs": [
    {
     "name": "stdout",
     "output_type": "stream",
     "text": [
      "[[-2.   1. ]\n",
      " [ 1.5 -0.5]]\n"
     ]
    }
   ],
   "source": [
    "# inversa \n",
    "\n",
    "print(inv(A))"
   ]
  },
  {
   "cell_type": "code",
   "execution_count": 21,
   "metadata": {},
   "outputs": [
    {
     "name": "stdout",
     "output_type": "stream",
     "text": [
      "[[1 3]\n",
      " [2 4]]\n"
     ]
    }
   ],
   "source": [
    "# transposta\n",
    "\n",
    "print(A.T)"
   ]
  }
 ],
 "metadata": {
  "kernelspec": {
   "display_name": "Python 3.10.5 64-bit (system)",
   "language": "python",
   "name": "python3"
  },
  "language_info": {
   "codemirror_mode": {
    "name": "ipython",
    "version": 3
   },
   "file_extension": ".py",
   "mimetype": "text/x-python",
   "name": "python",
   "nbconvert_exporter": "python",
   "pygments_lexer": "ipython3",
   "version": "3.10.5"
  },
  "orig_nbformat": 4,
  "vscode": {
   "interpreter": {
    "hash": "74af3d2f25f1e46ebd2903d59225d79e4675ec224d56c01fc30cd168c2010d53"
   }
  }
 },
 "nbformat": 4,
 "nbformat_minor": 2
}
